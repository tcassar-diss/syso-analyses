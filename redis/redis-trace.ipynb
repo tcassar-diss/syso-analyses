{
 "cells": [
  {
   "cell_type": "markdown",
   "id": "652bb158",
   "metadata": {},
   "source": [
    "# System Calls in Redis\n",
    "\n",
    "An analysis of system calls in `redis`. This notebook aims to answer the following questions:\n",
    "\n",
    "- Which system calls are made during a `redis-benchmark`?\n",
    "- Which shared libraries do these system calls come from?\n",
    "- If we aimed to implement compartmentalisation _along shared library boundaries_, what degree of privilege reduction would we see?\n",
    "\n",
    "The tool used to take these measurements is also unproven. Any places where the `syso` tool has generated suspect data will be marked accordingly."
   ]
  },
  {
   "cell_type": "code",
   "execution_count": 2,
   "id": "b8c07b50",
   "metadata": {},
   "outputs": [
    {
     "data": {
      "text/html": [
       "<div>\n",
       "<style scoped>\n",
       "    .dataframe tbody tr th:only-of-type {\n",
       "        vertical-align: middle;\n",
       "    }\n",
       "\n",
       "    .dataframe tbody tr th {\n",
       "        vertical-align: top;\n",
       "    }\n",
       "\n",
       "    .dataframe thead th {\n",
       "        text-align: right;\n",
       "    }\n",
       "</style>\n",
       "<table border=\"1\" class=\"dataframe\">\n",
       "  <thead>\n",
       "    <tr style=\"text-align: right;\">\n",
       "      <th></th>\n",
       "      <th>syscall_nr</th>\n",
       "      <th>library</th>\n",
       "      <th>pid</th>\n",
       "      <th>ppid</th>\n",
       "      <th>timestamp</th>\n",
       "    </tr>\n",
       "  </thead>\n",
       "  <tbody>\n",
       "    <tr>\n",
       "      <th>0</th>\n",
       "      <td>13</td>\n",
       "      <td>unmapped</td>\n",
       "      <td>972706</td>\n",
       "      <td>972593</td>\n",
       "      <td>2131-07-29 14:41:55.479202</td>\n",
       "    </tr>\n",
       "    <tr>\n",
       "      <th>1</th>\n",
       "      <td>13</td>\n",
       "      <td>unmapped</td>\n",
       "      <td>972706</td>\n",
       "      <td>972593</td>\n",
       "      <td>2131-07-29 14:41:55.487866</td>\n",
       "    </tr>\n",
       "    <tr>\n",
       "      <th>2</th>\n",
       "      <td>13</td>\n",
       "      <td>unmapped</td>\n",
       "      <td>972706</td>\n",
       "      <td>972593</td>\n",
       "      <td>2131-07-29 14:41:55.489678</td>\n",
       "    </tr>\n",
       "    <tr>\n",
       "      <th>3</th>\n",
       "      <td>13</td>\n",
       "      <td>unmapped</td>\n",
       "      <td>972706</td>\n",
       "      <td>972593</td>\n",
       "      <td>2131-07-29 14:41:55.491246</td>\n",
       "    </tr>\n",
       "    <tr>\n",
       "      <th>4</th>\n",
       "      <td>13</td>\n",
       "      <td>unmapped</td>\n",
       "      <td>972706</td>\n",
       "      <td>972593</td>\n",
       "      <td>2131-07-29 14:41:55.492736</td>\n",
       "    </tr>\n",
       "  </tbody>\n",
       "</table>\n",
       "</div>"
      ],
      "text/plain": [
       "   syscall_nr   library     pid    ppid                  timestamp\n",
       "0          13  unmapped  972706  972593 2131-07-29 14:41:55.479202\n",
       "1          13  unmapped  972706  972593 2131-07-29 14:41:55.487866\n",
       "2          13  unmapped  972706  972593 2131-07-29 14:41:55.489678\n",
       "3          13  unmapped  972706  972593 2131-07-29 14:41:55.491246\n",
       "4          13  unmapped  972706  972593 2131-07-29 14:41:55.492736"
      ]
     },
     "execution_count": 2,
     "metadata": {},
     "output_type": "execute_result"
    }
   ],
   "source": [
    "import pandas as pd\n",
    "import json\n",
    "import re\n",
    "\n",
    "df = pd.read_json(\"./stats/redis-server-stats.json\")\n",
    "df.head()"
   ]
  },
  {
   "cell_type": "markdown",
   "id": "6bb6e198",
   "metadata": {},
   "source": [
    "## Tool \"Uptime\"\n",
    "\n",
    "The tool relies on a ring buffer to pass information from kernel space to userspace. If the ring buffer is full, then system calls will be missed.\n",
    "\n",
    "Providing a number of syscall misses is possible but difficult to implement. The approach taken estimates \"downtime\", which was much simpler. If it turns out that a lot of syscalls are missed, some things can be done:\n",
    "    - Increase ringbuffer memory (perhaps by a lot)\n",
    "    - Optimise processing in the frontend to improve throughput (throw goroutines at the problem)\n",
    "\n",
    "Below is a visualisation of uptime"
   ]
  },
  {
   "cell_type": "code",
   "execution_count": null,
   "id": "c8190b8a",
   "metadata": {},
   "outputs": [],
   "source": []
  }
 ],
 "metadata": {
  "kernelspec": {
   "display_name": "venv",
   "language": "python",
   "name": "venv"
  },
  "language_info": {
   "codemirror_mode": {
    "name": "ipython",
    "version": 3
   },
   "file_extension": ".py",
   "mimetype": "text/x-python",
   "name": "python",
   "nbconvert_exporter": "python",
   "pygments_lexer": "ipython3",
   "version": "3.12.3"
  }
 },
 "nbformat": 4,
 "nbformat_minor": 5
}
